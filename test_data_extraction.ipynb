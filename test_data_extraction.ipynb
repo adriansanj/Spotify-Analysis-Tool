{
 "cells": [
  {
   "cell_type": "code",
   "execution_count": 3,
   "metadata": {},
   "outputs": [],
   "source": [
    "import pandas as pd\n",
    "import json"
   ]
  },
  {
   "cell_type": "code",
   "execution_count": 4,
   "metadata": {},
   "outputs": [],
   "source": [
    "df = pd.read_json(\"songs_1.json\")"
   ]
  },
  {
   "cell_type": "code",
   "execution_count": 7,
   "metadata": {},
   "outputs": [
    {
     "data": {
      "text/plain": [
       "Index(['ts', 'username', 'platform', 'ms_played', 'conn_country',\n",
       "       'ip_addr_decrypted', 'user_agent_decrypted',\n",
       "       'master_metadata_track_name', 'master_metadata_album_artist_name',\n",
       "       'master_metadata_album_album_name', 'spotify_track_uri', 'episode_name',\n",
       "       'episode_show_name', 'spotify_episode_uri', 'reason_start',\n",
       "       'reason_end', 'shuffle', 'skipped', 'offline', 'offline_timestamp',\n",
       "       'incognito_mode'],\n",
       "      dtype='object')"
      ]
     },
     "execution_count": 7,
     "metadata": {},
     "output_type": "execute_result"
    }
   ],
   "source": [
    "df.columns"
   ]
  },
  {
   "cell_type": "code",
   "execution_count": 9,
   "metadata": {},
   "outputs": [
    {
     "data": {
      "text/plain": [
       "ts                                    object\n",
       "username                              object\n",
       "platform                              object\n",
       "ms_played                              int64\n",
       "conn_country                          object\n",
       "ip_addr_decrypted                     object\n",
       "user_agent_decrypted                  object\n",
       "master_metadata_track_name            object\n",
       "master_metadata_album_artist_name     object\n",
       "master_metadata_album_album_name      object\n",
       "spotify_track_uri                     object\n",
       "episode_name                          object\n",
       "episode_show_name                     object\n",
       "spotify_episode_uri                   object\n",
       "reason_start                          object\n",
       "reason_end                            object\n",
       "shuffle                                 bool\n",
       "skipped                              float64\n",
       "offline                                 bool\n",
       "offline_timestamp                      int64\n",
       "incognito_mode                          bool\n",
       "dtype: object"
      ]
     },
     "execution_count": 9,
     "metadata": {},
     "output_type": "execute_result"
    }
   ],
   "source": [
    "df.dtypes"
   ]
  },
  {
   "cell_type": "code",
   "execution_count": 19,
   "metadata": {},
   "outputs": [],
   "source": [
    "df_clean = pd.DataFrame()\n",
    "df_clean['timestamp'] = pd.to_datetime(df['ts'])\n",
    "df_clean['date'] = df_clean['timestamp'].dt.date\n",
    "df_clean['artist'] = df['master_metadata_album_artist_name']\n",
    "df_clean['track'] = df['master_metadata_track_name']\n",
    "df_clean['ms_played'] = df['ms_played']"
   ]
  },
  {
   "cell_type": "code",
   "execution_count": 48,
   "metadata": {},
   "outputs": [
    {
     "data": {
      "text/plain": [
       "Index(['timestamp', 'date', 'artist', 'track', 'ms_played'], dtype='object')"
      ]
     },
     "execution_count": 48,
     "metadata": {},
     "output_type": "execute_result"
    }
   ],
   "source": [
    "df_clean.columns"
   ]
  },
  {
   "cell_type": "markdown",
   "metadata": {},
   "source": [
    "ARTISTS"
   ]
  },
  {
   "cell_type": "code",
   "execution_count": 75,
   "metadata": {},
   "outputs": [],
   "source": [
    "most_listened_artists = df_clean.groupby(['artist'])['ms_played'].sum().reset_index().sort_values('ms_played', ascending=False)\n",
    "most_listened_artists_count = df_clean.groupby(['artist']).size().sort_values(ascending=False)\n"
   ]
  },
  {
   "cell_type": "markdown",
   "metadata": {},
   "source": [
    "MOST LISTENED SONGS"
   ]
  },
  {
   "cell_type": "code",
   "execution_count": 76,
   "metadata": {},
   "outputs": [],
   "source": [
    "most_listened_songs = df_clean.groupby(['track', 'artist'])['ms_played'].sum().reset_index().sort_values('ms_played', ascending=False)\n",
    "most_listened_songs_count = df_clean.groupby(['artist', 'track']).size().sort_values(ascending=False)"
   ]
  },
  {
   "cell_type": "markdown",
   "metadata": {},
   "source": [
    "MOST DAYS AT NO1 ARTISTS"
   ]
  },
  {
   "cell_type": "code",
   "execution_count": 79,
   "metadata": {},
   "outputs": [],
   "source": [
    "artist_daily_plays = df_clean.groupby(['date', 'artist'])['ms_played'].sum().reset_index()\n",
    "most_streamed_per_day = artist_daily_plays.loc[artist_daily_plays.groupby('date')['ms_played'].idxmax()]\n",
    "most_streamed_per_day_count = most_streamed_per_day.groupby('artist').size().sort_values(ascending=False)"
   ]
  },
  {
   "cell_type": "markdown",
   "metadata": {},
   "source": [
    "MOST DAYS AT NO1 TRACKS"
   ]
  },
  {
   "cell_type": "code",
   "execution_count": 111,
   "metadata": {},
   "outputs": [],
   "source": [
    "track_daily_plays = df_clean.groupby(['date', 'artist', 'track'])['ms_played'].sum().reset_index()\n",
    "most_streamed_per_day = artist_daily_plays.loc[artist_daily_plays.groupby('date')['ms_played'].idxmax()]\n",
    "most_streamed_per_day_count = most_streamed_per_day.groupby(['artist', 'track']).size().sort_values(ascending=False)"
   ]
  },
  {
   "cell_type": "code",
   "execution_count": null,
   "metadata": {},
   "outputs": [],
   "source": []
  }
 ],
 "metadata": {
  "kernelspec": {
   "display_name": "env_spotify",
   "language": "python",
   "name": "python3"
  },
  "language_info": {
   "codemirror_mode": {
    "name": "ipython",
    "version": 3
   },
   "file_extension": ".py",
   "mimetype": "text/x-python",
   "name": "python",
   "nbconvert_exporter": "python",
   "pygments_lexer": "ipython3",
   "version": "3.12.8"
  }
 },
 "nbformat": 4,
 "nbformat_minor": 2
}
