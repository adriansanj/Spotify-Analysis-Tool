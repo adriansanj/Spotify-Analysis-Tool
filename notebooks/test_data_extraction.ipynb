{
 "cells": [
  {
   "cell_type": "code",
   "execution_count": 18,
   "metadata": {},
   "outputs": [],
   "source": [
    "import pandas as pd\n",
    "import json"
   ]
  },
  {
   "cell_type": "code",
   "execution_count": 20,
   "metadata": {},
   "outputs": [],
   "source": [
    "df = pd.read_json(\"../data/songs_1.json\")"
   ]
  },
  {
   "cell_type": "code",
   "execution_count": 9,
   "metadata": {},
   "outputs": [
    {
     "data": {
      "text/plain": [
       "Index(['ts', 'username', 'platform', 'ms_played', 'conn_country',\n",
       "       'ip_addr_decrypted', 'user_agent_decrypted',\n",
       "       'master_metadata_track_name', 'master_metadata_album_artist_name',\n",
       "       'master_metadata_album_album_name', 'spotify_track_uri', 'episode_name',\n",
       "       'episode_show_name', 'spotify_episode_uri', 'reason_start',\n",
       "       'reason_end', 'shuffle', 'skipped', 'offline', 'offline_timestamp',\n",
       "       'incognito_mode'],\n",
       "      dtype='object')"
      ]
     },
     "execution_count": 9,
     "metadata": {},
     "output_type": "execute_result"
    }
   ],
   "source": [
    "df.columns"
   ]
  },
  {
   "cell_type": "code",
   "execution_count": 10,
   "metadata": {},
   "outputs": [
    {
     "data": {
      "text/plain": [
       "ts                                    object\n",
       "username                              object\n",
       "platform                              object\n",
       "ms_played                              int64\n",
       "conn_country                          object\n",
       "ip_addr_decrypted                     object\n",
       "user_agent_decrypted                  object\n",
       "master_metadata_track_name            object\n",
       "master_metadata_album_artist_name     object\n",
       "master_metadata_album_album_name      object\n",
       "spotify_track_uri                     object\n",
       "episode_name                          object\n",
       "episode_show_name                     object\n",
       "spotify_episode_uri                   object\n",
       "reason_start                          object\n",
       "reason_end                            object\n",
       "shuffle                                 bool\n",
       "skipped                              float64\n",
       "offline                                 bool\n",
       "offline_timestamp                      int64\n",
       "incognito_mode                          bool\n",
       "dtype: object"
      ]
     },
     "execution_count": 10,
     "metadata": {},
     "output_type": "execute_result"
    }
   ],
   "source": [
    "df.dtypes"
   ]
  },
  {
   "cell_type": "code",
   "execution_count": 11,
   "metadata": {},
   "outputs": [],
   "source": [
    "df_clean = pd.DataFrame()\n",
    "df_clean['timestamp'] = pd.to_datetime(df['ts'])\n",
    "df_clean['date'] = df_clean['timestamp'].dt.date\n",
    "df_clean['artist'] = df['master_metadata_album_artist_name']\n",
    "df_clean['track'] = df['master_metadata_track_name']\n",
    "df_clean['ms_played'] = df['ms_played']"
   ]
  },
  {
   "cell_type": "code",
   "execution_count": 12,
   "metadata": {},
   "outputs": [
    {
     "data": {
      "text/plain": [
       "Index(['timestamp', 'date', 'artist', 'track', 'ms_played'], dtype='object')"
      ]
     },
     "execution_count": 12,
     "metadata": {},
     "output_type": "execute_result"
    }
   ],
   "source": [
    "df_clean.columns"
   ]
  },
  {
   "cell_type": "markdown",
   "metadata": {},
   "source": [
    "ARTISTS"
   ]
  },
  {
   "cell_type": "code",
   "execution_count": null,
   "metadata": {},
   "outputs": [
    {
     "data": {
      "text/html": [
       "<div>\n",
       "<style scoped>\n",
       "    .dataframe tbody tr th:only-of-type {\n",
       "        vertical-align: middle;\n",
       "    }\n",
       "\n",
       "    .dataframe tbody tr th {\n",
       "        vertical-align: top;\n",
       "    }\n",
       "\n",
       "    .dataframe thead th {\n",
       "        text-align: right;\n",
       "    }\n",
       "</style>\n",
       "<table border=\"1\" class=\"dataframe\">\n",
       "  <thead>\n",
       "    <tr style=\"text-align: right;\">\n",
       "      <th></th>\n",
       "      <th>artist</th>\n",
       "      <th>count</th>\n",
       "    </tr>\n",
       "  </thead>\n",
       "  <tbody>\n",
       "    <tr>\n",
       "      <th>0</th>\n",
       "      <td>Calvin Harris</td>\n",
       "      <td>1114</td>\n",
       "    </tr>\n",
       "    <tr>\n",
       "      <th>1</th>\n",
       "      <td>The Chainsmokers</td>\n",
       "      <td>929</td>\n",
       "    </tr>\n",
       "    <tr>\n",
       "      <th>2</th>\n",
       "      <td>Martin Garrix</td>\n",
       "      <td>594</td>\n",
       "    </tr>\n",
       "    <tr>\n",
       "      <th>3</th>\n",
       "      <td>Zara Larsson</td>\n",
       "      <td>483</td>\n",
       "    </tr>\n",
       "    <tr>\n",
       "      <th>4</th>\n",
       "      <td>Marshmello</td>\n",
       "      <td>436</td>\n",
       "    </tr>\n",
       "    <tr>\n",
       "      <th>...</th>\n",
       "      <td>...</td>\n",
       "      <td>...</td>\n",
       "    </tr>\n",
       "    <tr>\n",
       "      <th>624</th>\n",
       "      <td>HUTS</td>\n",
       "      <td>1</td>\n",
       "    </tr>\n",
       "    <tr>\n",
       "      <th>625</th>\n",
       "      <td>HOUNDTRACK</td>\n",
       "      <td>1</td>\n",
       "    </tr>\n",
       "    <tr>\n",
       "      <th>626</th>\n",
       "      <td>Gyptian</td>\n",
       "      <td>1</td>\n",
       "    </tr>\n",
       "    <tr>\n",
       "      <th>627</th>\n",
       "      <td>Ivan Cappello</td>\n",
       "      <td>1</td>\n",
       "    </tr>\n",
       "    <tr>\n",
       "      <th>628</th>\n",
       "      <td>Ilkay Sencan</td>\n",
       "      <td>1</td>\n",
       "    </tr>\n",
       "  </tbody>\n",
       "</table>\n",
       "<p>629 rows × 2 columns</p>\n",
       "</div>"
      ],
      "text/plain": [
       "               artist  count\n",
       "0       Calvin Harris   1114\n",
       "1    The Chainsmokers    929\n",
       "2       Martin Garrix    594\n",
       "3        Zara Larsson    483\n",
       "4          Marshmello    436\n",
       "..                ...    ...\n",
       "624              HUTS      1\n",
       "625        HOUNDTRACK      1\n",
       "626           Gyptian      1\n",
       "627     Ivan Cappello      1\n",
       "628      Ilkay Sencan      1\n",
       "\n",
       "[629 rows x 2 columns]"
      ]
     },
     "execution_count": 15,
     "metadata": {},
     "output_type": "execute_result"
    }
   ],
   "source": [
    "most_listened_artists = df_clean.groupby(['artist'])['ms_played'].sum().reset_index().sort_values('ms_played', ascending=False)\n",
    "most_listened_artists_count = df_clean.groupby(['artist']).size().sort_values(ascending=False).reset_index().rename(columns={0: 'count'})"
   ]
  },
  {
   "cell_type": "markdown",
   "metadata": {},
   "source": [
    "MOST LISTENED SONGS"
   ]
  },
  {
   "cell_type": "code",
   "execution_count": null,
   "metadata": {},
   "outputs": [
    {
     "data": {
      "text/html": [
       "<div>\n",
       "<style scoped>\n",
       "    .dataframe tbody tr th:only-of-type {\n",
       "        vertical-align: middle;\n",
       "    }\n",
       "\n",
       "    .dataframe tbody tr th {\n",
       "        vertical-align: top;\n",
       "    }\n",
       "\n",
       "    .dataframe thead th {\n",
       "        text-align: right;\n",
       "    }\n",
       "</style>\n",
       "<table border=\"1\" class=\"dataframe\">\n",
       "  <thead>\n",
       "    <tr style=\"text-align: right;\">\n",
       "      <th></th>\n",
       "      <th>artist</th>\n",
       "      <th>track</th>\n",
       "      <th>count</th>\n",
       "    </tr>\n",
       "  </thead>\n",
       "  <tbody>\n",
       "    <tr>\n",
       "      <th>0</th>\n",
       "      <td>The Chainsmokers</td>\n",
       "      <td>Don't Say</td>\n",
       "      <td>138</td>\n",
       "    </tr>\n",
       "    <tr>\n",
       "      <th>1</th>\n",
       "      <td>The Chainsmokers</td>\n",
       "      <td>Closer</td>\n",
       "      <td>138</td>\n",
       "    </tr>\n",
       "    <tr>\n",
       "      <th>2</th>\n",
       "      <td>The Chainsmokers</td>\n",
       "      <td>Something Just Like This</td>\n",
       "      <td>132</td>\n",
       "    </tr>\n",
       "    <tr>\n",
       "      <th>3</th>\n",
       "      <td>Charlie Puth</td>\n",
       "      <td>We Don't Talk Anymore (feat. Selena Gomez)</td>\n",
       "      <td>127</td>\n",
       "    </tr>\n",
       "    <tr>\n",
       "      <th>4</th>\n",
       "      <td>Justin Mylo</td>\n",
       "      <td>I Wanna Fall In Love</td>\n",
       "      <td>126</td>\n",
       "    </tr>\n",
       "    <tr>\n",
       "      <th>...</th>\n",
       "      <td>...</td>\n",
       "      <td>...</td>\n",
       "      <td>...</td>\n",
       "    </tr>\n",
       "    <tr>\n",
       "      <th>1387</th>\n",
       "      <td>Dallerium</td>\n",
       "      <td>Tell You</td>\n",
       "      <td>1</td>\n",
       "    </tr>\n",
       "    <tr>\n",
       "      <th>1388</th>\n",
       "      <td>Daler Mehndi</td>\n",
       "      <td>Tunak Tunak Tun</td>\n",
       "      <td>1</td>\n",
       "    </tr>\n",
       "    <tr>\n",
       "      <th>1389</th>\n",
       "      <td>Daler Mehndi</td>\n",
       "      <td>Bolo Ta Ra Ra</td>\n",
       "      <td>1</td>\n",
       "    </tr>\n",
       "    <tr>\n",
       "      <th>1390</th>\n",
       "      <td>DJ Snake</td>\n",
       "      <td>Let Me Love You - Marshmello Remix</td>\n",
       "      <td>1</td>\n",
       "    </tr>\n",
       "    <tr>\n",
       "      <th>1391</th>\n",
       "      <td>Deichkind</td>\n",
       "      <td>Sonate in f-Doll</td>\n",
       "      <td>1</td>\n",
       "    </tr>\n",
       "  </tbody>\n",
       "</table>\n",
       "<p>1392 rows × 3 columns</p>\n",
       "</div>"
      ],
      "text/plain": [
       "                artist                                       track  count\n",
       "0     The Chainsmokers                                   Don't Say    138\n",
       "1     The Chainsmokers                                      Closer    138\n",
       "2     The Chainsmokers                    Something Just Like This    132\n",
       "3         Charlie Puth  We Don't Talk Anymore (feat. Selena Gomez)    127\n",
       "4          Justin Mylo                        I Wanna Fall In Love    126\n",
       "...                ...                                         ...    ...\n",
       "1387         Dallerium                                    Tell You      1\n",
       "1388      Daler Mehndi                             Tunak Tunak Tun      1\n",
       "1389      Daler Mehndi                               Bolo Ta Ra Ra      1\n",
       "1390          DJ Snake          Let Me Love You - Marshmello Remix      1\n",
       "1391         Deichkind                            Sonate in f-Doll      1\n",
       "\n",
       "[1392 rows x 3 columns]"
      ]
     },
     "execution_count": 17,
     "metadata": {},
     "output_type": "execute_result"
    }
   ],
   "source": [
    "most_listened_songs = df_clean.groupby(['track', 'artist'])['ms_played'].sum().reset_index().sort_values('ms_played', ascending=False)\n",
    "most_listened_songs_count = df_clean.groupby(['artist', 'track']).size().sort_values(ascending=False).reset_index().rename(columns={0: 'count'})\n"
   ]
  },
  {
   "cell_type": "markdown",
   "metadata": {},
   "source": [
    "MOST DAYS AT NO1 ARTISTS"
   ]
  },
  {
   "cell_type": "code",
   "execution_count": 79,
   "metadata": {},
   "outputs": [],
   "source": [
    "artist_daily_plays = df_clean.groupby(['date', 'artist'])['ms_played'].sum().reset_index()\n",
    "most_streamed_per_day = artist_daily_plays.loc[artist_daily_plays.groupby('date')['ms_played'].idxmax()]\n",
    "most_streamed_per_day_count = most_streamed_per_day.groupby('artist').size().sort_values(ascending=False)"
   ]
  },
  {
   "cell_type": "markdown",
   "metadata": {},
   "source": [
    "MOST DAYS AT NO1 TRACKS"
   ]
  },
  {
   "cell_type": "code",
   "execution_count": 111,
   "metadata": {},
   "outputs": [],
   "source": [
    "track_daily_plays = df_clean.groupby(['date', 'artist', 'track'])['ms_played'].sum().reset_index()\n",
    "most_streamed_per_day = artist_daily_plays.loc[artist_daily_plays.groupby('date')['ms_played'].idxmax()]\n",
    "most_streamed_per_day_count = most_streamed_per_day.groupby(['artist', 'track']).size().sort_values(ascending=False)"
   ]
  },
  {
   "cell_type": "code",
   "execution_count": null,
   "metadata": {},
   "outputs": [],
   "source": []
  }
 ],
 "metadata": {
  "kernelspec": {
   "display_name": "env_spotify",
   "language": "python",
   "name": "python3"
  },
  "language_info": {
   "codemirror_mode": {
    "name": "ipython",
    "version": 3
   },
   "file_extension": ".py",
   "mimetype": "text/x-python",
   "name": "python",
   "nbconvert_exporter": "python",
   "pygments_lexer": "ipython3",
   "version": "3.12.8"
  }
 },
 "nbformat": 4,
 "nbformat_minor": 2
}
